
📊 Titanic EDA Analysis
🔍 Overview
This project performs Exploratory Data Analysis (EDA) on the Titanic dataset using Python, with libraries such as Pandas, Seaborn, and Matplotlib. The goal is to extract meaningful insights about the passengers and identify key patterns that influenced survival rates.

🧰 Tools & Libraries Used
Python 3.x

Pandas

NumPy

Matplotlib

Seaborn

Jupyter Notebook

📁 Files Included
File Name	Description
Titanic_EDA.ipynb	Main Jupyter Notebook containing EDA steps
Titanic_EDA_Report.pdf	PDF version of the report with insights
titanic.csv	Dataset used for the analysis
README.md	This file

📌 Key Objectives
Understand the structure and contents of the dataset.

Clean and preprocess the data (handle missing values, encode categorical data).

Perform univariate, bivariate, and multivariate analysis.

Visualize trends, distributions, and correlations.

Extract meaningful insights and summarize findings.

📊 Key Insights
Sex & Survival: Females had a significantly higher survival rate than males.

Class Matters: Passengers in higher classes (1st) were more likely to survive.

Age Distribution: Children had higher survival rates, but the dataset is skewed toward younger adults.

Fare Impact: Higher fare passengers had higher survival probability.

Correlation: Passenger class, sex, and fare had strong relationships with survival
